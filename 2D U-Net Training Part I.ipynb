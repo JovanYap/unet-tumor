{
 "cells": [
  {
   "metadata": {},
   "cell_type": "markdown",
   "source": "",
   "id": "9a816715464887a5"
  },
  {
   "metadata": {},
   "cell_type": "markdown",
   "source": "## import dependencies",
   "id": "278812be0d1b63f9"
  },
  {
   "cell_type": "code",
   "id": "initial_id",
   "metadata": {
    "collapsed": true,
    "ExecuteTime": {
     "end_time": "2024-04-14T05:18:35.093835Z",
     "start_time": "2024-04-14T05:18:35.088445Z"
    }
   },
   "source": [
    "import numpy as np\n",
    "import matplotlib.pyplot as plt\n",
    "from tqdm import tqdm # Displays a progress bar\n",
    "import torch\n",
    "from torch import nn\n",
    "from torch import optim\n",
    "import torch.nn.functional as F\n",
    "import torchvision.transforms.functional as TF\n",
    "from torchsummary import summary\n",
    "from torchvision import datasets, transforms\n",
    "from torch.utils.data import Dataset, Subset, DataLoader, random_split\n",
    "import os\n",
    "import requests\n",
    "import zipfile\n",
    "import gzip\n",
    "import shutil\n",
    "import glob\n",
    "import SimpleITK as sitk\n",
    "import numpy as np\n",
    "import matplotlib.pyplot as plt\n",
    "import nibabel as nib\n",
    "import pickle\n",
    "import torchvision.transforms as transforms\n",
    "from torchvision import datasets\n",
    "if torch.backends.mps.is_available():\n",
    "    print(\"Using the MPS. You are good to go!\")\n",
    "    device = torch.device(\"mps\")\n",
    "else:\n",
    "    print(\"Using the CPU. Overall speed may be slowed down\")\n",
    "    device = 'cpu'"
   ],
   "outputs": [
    {
     "name": "stdout",
     "output_type": "stream",
     "text": [
      "Using the MPS. You are good to go!\n"
     ]
    }
   ],
   "execution_count": 16
  },
  {
   "metadata": {},
   "cell_type": "markdown",
   "source": "## Load Data",
   "id": "1bd5c73f9a8bb59c"
  },
  {
   "metadata": {
    "ExecuteTime": {
     "end_time": "2024-04-14T08:40:57.309094Z",
     "start_time": "2024-04-14T08:40:12.600557Z"
    }
   },
   "cell_type": "code",
   "source": [
    "import pickle\n",
    "database_tr = None\n",
    "with open('./DataSet/database_tr.pkl', 'rb') as f:\n",
    "    database_tr = pickle.load(f)\n",
    "    database_tr = database_tr[:32]\n",
    "print(len(database_tr))\n",
    "database_val = None\n",
    "with open('./DataSet/database_val.pkl', 'rb') as f:\n",
    "    database_val = pickle.load(f)\n",
    "    database_val = database_val[:32]\n",
    "print(len(database_val))\n",
    "database_te = None\n",
    "with open('./DataSet/database_te.pkl', 'rb') as f:\n",
    "    database_te = pickle.load(f)\n",
    "    database_te = database_te[:4]\n",
    "print(len(database_te))"
   ],
   "id": "80b82813b4d16973",
   "outputs": [
    {
     "name": "stdout",
     "output_type": "stream",
     "text": [
      "32\n",
      "32\n",
      "4\n"
     ]
    }
   ],
   "execution_count": 450
  },
  {
   "metadata": {},
   "cell_type": "markdown",
   "source": "## Transformer",
   "id": "a197c5592dc0cadd"
  },
  {
   "metadata": {
    "ExecuteTime": {
     "end_time": "2024-04-14T08:40:57.317683Z",
     "start_time": "2024-04-14T08:40:57.311855Z"
    }
   },
   "cell_type": "code",
   "source": [
    "data_transform = {'train':transforms.Compose([transforms.Resize((256,256)),\n",
    "                                transforms.CenterCrop(224),\n",
    "                               ]),\n",
    "                  'test':transforms.Compose([transforms.Resize((256,256)),\n",
    "                                transforms.CenterCrop(224),\n",
    "                                ]),\n",
    "                 }"
   ],
   "id": "31985b42c9b5cbe2",
   "outputs": [],
   "execution_count": 451
  },
  {
   "metadata": {},
   "cell_type": "markdown",
   "source": "## Data Loader",
   "id": "fd3cc877b64b8f9"
  },
  {
   "metadata": {
    "ExecuteTime": {
     "end_time": "2024-04-14T08:41:07.711853Z",
     "start_time": "2024-04-14T08:41:07.295216Z"
    }
   },
   "cell_type": "code",
   "source": [
    "class BraTDataset(torch.utils.data.Dataset):\n",
    "        # refer to Medical Image Segmentation with Diffusion Model, 2020, https://github.com/KidsWithTokens/MedSegDiff\n",
    "    def __init__(self, database, transform, test_flag=False):\n",
    "        super().__init__()\n",
    "        self.transform = transform\n",
    "        self.test_flag=test_flag\n",
    "        self.database = database\n",
    "        if test_flag:\n",
    "            self.keys = ['t1', 't1ce', 't2', 'flair']\n",
    "        else:\n",
    "            self.keys = ['t1', 't1ce', 't2', 'flair', 'seg']\n",
    "\n",
    "    def __len__(self):\n",
    "        return len(self.database) * 155\n",
    "\n",
    "    def __getitem__(self, x):\n",
    "        out = []\n",
    "        slice = x % 155\n",
    "        n = x // 155\n",
    "        dict = self.database[n]\n",
    "        for key in self.keys:\n",
    "            img = dict[key]\n",
    "            op = torch.tensor(img)[...,slice]\n",
    "            out.append(op)\n",
    "        out = torch.stack(out)\n",
    "        \n",
    "        if self.test_flag:\n",
    "            image=out\n",
    "            if self.transform:\n",
    "                image = self.transform(image)\n",
    "            return (image, image)\n",
    "        else:\n",
    "            if self.transform:\n",
    "                out = self.transform(out)\n",
    "            image = out[:-1, ...]\n",
    "            label = out[-1, ...][None, ...]\n",
    "            label=torch.where(label > 0, 1, 0).float()\n",
    "            return (image, label)\n",
    "\n",
    "ds_tr = BraTDataset(database=database_tr, transform=data_transform['train'], test_flag=False)\n",
    "ds_val = BraTDataset(database=database_val, transform=data_transform['test'], test_flag=False)\n",
    "ds_te = BraTDataset(database=database_te, transform=data_transform['test'], test_flag=True)\n",
    "\n",
    "from torch.utils.data import DataLoader\n",
    "train_loader = DataLoader(ds_tr, batch_size=4, shuffle=True)\n",
    "val_loader = DataLoader(ds_val, batch_size=4, shuffle=True)\n",
    "te_loader = DataLoader(ds_te, batch_size=4, shuffle=False)\n",
    "\n",
    "fig, axes = plt.subplots(2, 2)\n",
    "axes = np.reshape(axes, (4, ))\n",
    "for i in range(4):\n",
    "  example = train_loader.__iter__().__next__()\n",
    "  image = example[0]\n",
    "  label = example[1]\n",
    "  print(image.shape)\n",
    "  print(label.shape)\n",
    "  axes[i].imshow(image[0, 0, :, :])\n",
    "  axes[i].axis('off')\n",
    "plt.show()"
   ],
   "id": "7671c18f9721432",
   "outputs": [
    {
     "name": "stdout",
     "output_type": "stream",
     "text": [
      "torch.Size([4, 4, 224, 224])\n",
      "torch.Size([4, 1, 224, 224])\n",
      "torch.Size([4, 4, 224, 224])\n",
      "torch.Size([4, 1, 224, 224])\n",
      "torch.Size([4, 4, 224, 224])\n",
      "torch.Size([4, 1, 224, 224])\n",
      "torch.Size([4, 4, 224, 224])\n",
      "torch.Size([4, 1, 224, 224])\n"
     ]
    },
    {
     "data": {
      "text/plain": [
       "<Figure size 640x480 with 4 Axes>"
      ],
      "image/png": "[encoded data removed]"
     },
     "metadata": {},
     "output_type": "display_data"
    }
   ],
   "execution_count": 456
  },
  {
   "metadata": {},
   "cell_type": "markdown",
   "source": "## Self-improved U-Net with batch normalization",
   "id": "b4a2388f7cf12b11"
  },
  {
   "metadata": {
    "ExecuteTime": {
     "end_time": "2024-04-14T08:41:10.474623Z",
     "start_time": "2024-04-14T08:41:10.463348Z"
    }
   },
   "cell_type": "code",
   "source": [
    "class DoubleConv(nn.Module):\n",
    "    def __init__(self, in_channels, out_channels):\n",
    "        super().__init__()\n",
    "        self.double_conv = nn.Sequential(\n",
    "            nn.Conv2d(in_channels, out_channels, kernel_size=3, padding=1),\n",
    "            nn.BatchNorm2d(out_channels),\n",
    "            nn.ReLU(inplace=True),\n",
    "            nn.Conv2d(out_channels, out_channels, kernel_size=3, padding=1),\n",
    "            nn.BatchNorm2d(out_channels),\n",
    "            nn.ReLU(inplace=True)\n",
    "        )\n",
    "    def forward(self, x):\n",
    "        return self.double_conv(x)\n",
    "\n",
    "class Down(nn.Module):\n",
    "    def __init__(self, in_channels, out_channels):\n",
    "        super().__init__()\n",
    "        self.maxpool_conv = nn.Sequential(\n",
    "            nn.MaxPool2d(2),\n",
    "            DoubleConv(in_channels, out_channels)\n",
    "        )\n",
    "    def forward(self, x):\n",
    "        return self.maxpool_conv(x)\n",
    "\n",
    "class Up(nn.Module):\n",
    "    def __init__(self, in_channels, out_channels):\n",
    "        super().__init__()\n",
    "        self.up = nn.Upsample(scale_factor=2, mode='bilinear', align_corners=True)\n",
    "        self.conv = DoubleConv(in_channels // 2 + in_channels, out_channels)\n",
    "\n",
    "    def forward(self, x1, x2):\n",
    "        x1 = self.up(x1)\n",
    "        dY = x2.size()[2] - x1.size()[2]\n",
    "        dX = x2.size()[3] - x1.size()[3]\n",
    "        x1 = F.pad(x1, [dX // 2, dX - dX // 2, dY // 2, dY - dY // 2])\n",
    "        x = torch.cat([x2, x1], dim=1)\n",
    "        return self.conv(x)\n",
    "\n",
    "class OutConv(nn.Module):\n",
    "    def __init__(self, in_channels, out_channels):\n",
    "        super(OutConv, self).__init__()\n",
    "        self.conv = nn.Conv2d(in_channels, out_channels, kernel_size=1)\n",
    "    def forward(self, x):\n",
    "        return self.conv(x)\n",
    "\n",
    "class UNet(nn.Module):\n",
    "    def __init__(self, n_channels, n_classes):\n",
    "        super(UNet, self).__init__()\n",
    "        self.inc = DoubleConv(n_channels, 64)\n",
    "        self.down1 = Down(64, 128)\n",
    "        self.down2 = Down(128, 256)\n",
    "        self.down3 = Down(256, 512)\n",
    "        self.down4 = Down(512, 1024)\n",
    "        self.up1 = Up(1024, 512)\n",
    "        self.up2 = Up(512, 256)\n",
    "        self.up3 = Up(256, 128)\n",
    "        self.up4 = Up(128, 64)\n",
    "        self.outc = OutConv(64, n_classes)\n",
    "\n",
    "    def forward(self, x):\n",
    "        x1 = self.inc(x)\n",
    "        # print(\"x1:\", x1.shape)  # Debug\n",
    "        x2 = self.down1(x1)\n",
    "        # print(\"x2:\", x2.shape)  # Debug\n",
    "        x3 = self.down2(x2)\n",
    "        # print(\"x3:\", x3.shape)  # Debug\n",
    "        x4 = self.down3(x3)\n",
    "        # print(\"x4:\", x4.shape)  # Debug\n",
    "        x5 = self.down4(x4)\n",
    "        # print(\"x5:\", x5.shape)  # Debug\n",
    "        x = self.up1(x5, x4)\n",
    "        # print(\"After up1:\", x.shape)  # Debug\n",
    "        x = self.up2(x, x3)\n",
    "        # print(\"After up2:\", x.shape)  # Debug\n",
    "        x = self.up3(x, x2)\n",
    "        # print(\"After up3:\", x.shape)  # Debug\n",
    "        x = self.up4(x, x1)\n",
    "        # print(\"After up4:\", x.shape)  # Debug\n",
    "        logit = self.outc(x)\n",
    "        return logit"
   ],
   "id": "9f092e5c119453b1",
   "outputs": [],
   "execution_count": 457
  },
  {
   "metadata": {},
   "cell_type": "markdown",
   "source": "### Dice Loss we defined without penalty",
   "id": "c2176572f98d2316"
  },
  {
   "metadata": {
    "ExecuteTime": {
     "end_time": "2024-04-14T08:54:23.440622Z",
     "start_time": "2024-04-14T08:54:23.436141Z"
    }
   },
   "cell_type": "code",
   "source": [
    "import torch\n",
    "import torch.nn as nn\n",
    "import torch.nn.functional as F\n",
    "\n",
    "class DiceLoss(nn.Module):\n",
    "    def __init__(self, smooth=1e-30):\n",
    "        super(DiceLoss, self).__init__()\n",
    "        self.smooth = smooth\n",
    "\n",
    "    def forward(self, logits, labels):\n",
    "        logits_bound = torch.sigmoid(logits)\n",
    "        \n",
    "        label_flat = labels.view(-1)\n",
    "        \n",
    "        logits_flat = logits_bound .view(-1)\n",
    "        \n",
    "        intersection = (label_flat * logits_flat).sum()\n",
    "        \n",
    "        dice_score = (2. * intersection + 1e-30) / (label_flat.sum() + logits_flat.sum() + 1e-30)\n",
    "        \n",
    "        dice_loss = 1 - dice_score\n",
    "        \n",
    "        return dice_loss"
   ],
   "id": "4db09bd7d4c4ced9",
   "outputs": [],
   "execution_count": 461
  },
  {
   "metadata": {},
   "cell_type": "markdown",
   "source": "### model evaluation function - Dice Score",
   "id": "2dd5c5d7ba1cf33"
  },
  {
   "metadata": {
    "ExecuteTime": {
     "end_time": "2024-04-14T09:09:12.996697Z",
     "start_time": "2024-04-14T09:09:12.992065Z"
    }
   },
   "cell_type": "code",
   "source": [
    "def evaluate(model, loader, loss_fun):\n",
    "    model.eval()\n",
    "    accuracy = 0\n",
    "    count = 0\n",
    "    with torch.no_grad():\n",
    "        for batch, label in tqdm(loader):\n",
    "            if len(np.unique(label)) == 1:\n",
    "                continue\n",
    "            batch = batch.to(device=device, dtype=torch.float)\n",
    "            label = label.to(device=device, dtype=torch.float)\n",
    "            pred = model(batch)\n",
    "            count = count + 1\n",
    "            score = 1 - loss_fun(pred, label)\n",
    "            accuracy = accuracy + score \n",
    "        Accuracy = accuracy / count\n",
    "        print(\"\\n Accuracy: {}\".format(Accuracy))\n",
    "        return Accuracy"
   ],
   "id": "36b0443058071e27",
   "outputs": [],
   "execution_count": 466
  },
  {
   "metadata": {},
   "cell_type": "markdown",
   "source": "## Train",
   "id": "df0eec3b55387c7c"
  },
  {
   "metadata": {
    "ExecuteTime": {
     "end_time": "2024-04-14T13:48:05.660656Z",
     "start_time": "2024-04-14T09:55:34.837197Z"
    }
   },
   "cell_type": "code",
   "source": [
    "import torch.nn.init as init\n",
    "model = UNet(n_channels=4, n_classes=1)\n",
    "for m in model.modules():\n",
    "    if isinstance(m, nn.Conv2d):\n",
    "        init.uniform(m.weight, 0, 1)\n",
    "        if m.bias is not None:\n",
    "            init.constant_(m.bias, 0)\n",
    "            \n",
    "model = model.to(device)\n",
    "\n",
    "learning_rate, weight_decay, num_epoch = 0.1, 0, 30\n",
    "optimizer = torch.optim.SGD(model.parameters(), lr=learning_rate, weight_decay=weight_decay)\n",
    "scheduler = torch.optim.lr_scheduler.CosineAnnealingLR(optimizer, T_max=100)\n",
    "# criterion = nn.BCEWithLogitsLoss()\n",
    "criterion = DiceLoss()\n",
    "\n",
    "def train(model, trainloader, valloader, num_epoch=10):\n",
    "    trn_loss_hist = []\n",
    "    trn_acc_hist = []\n",
    "    val_acc_hist = []\n",
    "    evaluate(model, trainloader, criterion)\n",
    "    print(\"Start training...\")\n",
    "    model.train()\n",
    "    for i in range(num_epoch):\n",
    "        running_loss = 0.0\n",
    "        model.train()\n",
    "        print('-----------------Epoch = %d-----------------' % (i+1))\n",
    "        count = 0\n",
    "        for batch, label in tqdm(trainloader):\n",
    "            if len(np.unique(label)) == 1 and count % 2 == 0:\n",
    "                continue\n",
    "            batch = batch.to(device=device, dtype=torch.float)\n",
    "            label = label.to(device=device, dtype=torch.float)\n",
    "            # print(label.shape)\n",
    "            optimizer.zero_grad() \n",
    "            pred = model(batch)\n",
    "            loss = criterion(pred, label)\n",
    "            count = count + 1\n",
    "            running_loss = running_loss + loss.item()\n",
    "            loss.backward() \n",
    "            optimizer.step()\n",
    "        print(\"\\n Epoch {} loss:{}\".format(i+1, running_loss/count))\n",
    "        torch.save(model.state_dict(), 'model_32dice_{}.pth'.format(i+1))\n",
    "        trn_loss_hist.append(running_loss/count)\n",
    "        print(\"\\n Evaluate on training set...\")\n",
    "        trn_acc_hist.append(evaluate(model, trainloader, criterion))\n",
    "        print(\"\\n Evaluate on validation set...\")\n",
    "        val_acc_hist.append(evaluate(model, valloader, criterion))\n",
    "    print(\"Done!\")\n",
    "    return trn_loss_hist, trn_acc_hist, val_acc_hist\n",
    "\n",
    "trn_loss_hist, trn_acc_hist, val_acc_hist = train(model, train_loader,\n",
    "                                                  val_loader, num_epoch)"
   ],
   "id": "b16879c51f8dafb1",
   "outputs": [
    {
     "name": "stderr",
     "output_type": "stream",
     "text": [
      "/var/folders/7l/8jkxfq0s27b8yk8tp355479r0000gn/T/ipykernel_96855/25650442.py:6: UserWarning: nn.init.uniform is now deprecated in favor of nn.init.uniform_.\n",
      "  init.uniform(m.weight, 0, 1)\n",
      "100%|██████████| 1240/1240 [02:12<00:00,  9.34it/s]\n"
     ]
    },
    {
     "name": "stdout",
     "output_type": "stream",
     "text": [
      "\n",
      " Accuracy: 0.04605630412697792\n",
      "Start training...\n",
      "-----------------Epoch = 1-----------------\n"
     ]
    },
    {
     "name": "stderr",
     "output_type": "stream",
     "text": [
      "100%|██████████| 1240/1240 [03:26<00:00,  5.99it/s]\n"
     ]
    },
    {
     "name": "stdout",
     "output_type": "stream",
     "text": [
      "\n",
      " Epoch 1 loss:0.9253725555083571\n",
      "\n",
      " Evaluate on training set...\n"
     ]
    },
    {
     "name": "stderr",
     "output_type": "stream",
     "text": [
      "100%|██████████| 1240/1240 [02:10<00:00,  9.49it/s]\n"
     ]
    },
    {
     "name": "stdout",
     "output_type": "stream",
     "text": [
      "\n",
      " Accuracy: 0.1411500722169876\n",
      "\n",
      " Evaluate on validation set...\n"
     ]
    },
    {
     "name": "stderr",
     "output_type": "stream",
     "text": [
      "100%|██████████| 1240/1240 [02:10<00:00,  9.48it/s]\n"
     ]
    },
    {
     "name": "stdout",
     "output_type": "stream",
     "text": [
      "\n",
      " Accuracy: 0.12460912019014359\n",
      "-----------------Epoch = 2-----------------\n"
     ]
    },
    {
     "name": "stderr",
     "output_type": "stream",
     "text": [
      "100%|██████████| 1240/1240 [03:20<00:00,  6.17it/s]\n"
     ]
    },
    {
     "name": "stdout",
     "output_type": "stream",
     "text": [
      "\n",
      " Epoch 2 loss:0.8584323256312522\n",
      "\n",
      " Evaluate on training set...\n"
     ]
    },
    {
     "name": "stderr",
     "output_type": "stream",
     "text": [
      "100%|██████████| 1240/1240 [02:09<00:00,  9.59it/s]\n"
     ]
    },
    {
     "name": "stdout",
     "output_type": "stream",
     "text": [
      "\n",
      " Accuracy: 0.1408061534166336\n",
      "\n",
      " Evaluate on validation set...\n"
     ]
    },
    {
     "name": "stderr",
     "output_type": "stream",
     "text": [
      "100%|██████████| 1240/1240 [02:09<00:00,  9.57it/s]\n"
     ]
    },
    {
     "name": "stdout",
     "output_type": "stream",
     "text": [
      "\n",
      " Accuracy: 0.16949991881847382\n",
      "-----------------Epoch = 3-----------------\n"
     ]
    },
    {
     "name": "stderr",
     "output_type": "stream",
     "text": [
      "100%|██████████| 1240/1240 [03:19<00:00,  6.20it/s]\n"
     ]
    },
    {
     "name": "stdout",
     "output_type": "stream",
     "text": [
      "\n",
      " Epoch 3 loss:0.8394204331689501\n",
      "\n",
      " Evaluate on training set...\n"
     ]
    },
    {
     "name": "stderr",
     "output_type": "stream",
     "text": [
      "100%|██████████| 1240/1240 [02:08<00:00,  9.63it/s]\n"
     ]
    },
    {
     "name": "stdout",
     "output_type": "stream",
     "text": [
      "\n",
      " Accuracy: 0.19585244357585907\n",
      "\n",
      " Evaluate on validation set...\n"
     ]
    },
    {
     "name": "stderr",
     "output_type": "stream",
     "text": [
      "100%|██████████| 1240/1240 [02:09<00:00,  9.58it/s]\n"
     ]
    },
    {
     "name": "stdout",
     "output_type": "stream",
     "text": [
      "\n",
      " Accuracy: 0.16941282153129578\n",
      "-----------------Epoch = 4-----------------\n"
     ]
    },
    {
     "name": "stderr",
     "output_type": "stream",
     "text": [
      "100%|██████████| 1240/1240 [03:20<00:00,  6.18it/s]\n"
     ]
    },
    {
     "name": "stdout",
     "output_type": "stream",
     "text": [
      "\n",
      " Epoch 4 loss:0.8416194367530809\n",
      "\n",
      " Evaluate on training set...\n"
     ]
    },
    {
     "name": "stderr",
     "output_type": "stream",
     "text": [
      "100%|██████████| 1240/1240 [02:09<00:00,  9.60it/s]\n"
     ]
    },
    {
     "name": "stdout",
     "output_type": "stream",
     "text": [
      "\n",
      " Accuracy: 0.18751868605613708\n",
      "\n",
      " Evaluate on validation set...\n"
     ]
    },
    {
     "name": "stderr",
     "output_type": "stream",
     "text": [
      "100%|██████████| 1240/1240 [02:09<00:00,  9.55it/s]\n"
     ]
    },
    {
     "name": "stdout",
     "output_type": "stream",
     "text": [
      "\n",
      " Accuracy: 0.17752660810947418\n",
      "-----------------Epoch = 5-----------------\n"
     ]
    },
    {
     "name": "stderr",
     "output_type": "stream",
     "text": [
      "100%|██████████| 1240/1240 [03:20<00:00,  6.17it/s]\n"
     ]
    },
    {
     "name": "stdout",
     "output_type": "stream",
     "text": [
      "\n",
      " Epoch 5 loss:0.8379888410645738\n",
      "\n",
      " Evaluate on training set...\n"
     ]
    },
    {
     "name": "stderr",
     "output_type": "stream",
     "text": [
      "100%|██████████| 1240/1240 [02:09<00:00,  9.58it/s]\n"
     ]
    },
    {
     "name": "stdout",
     "output_type": "stream",
     "text": [
      "\n",
      " Accuracy: 0.18566513061523438\n",
      "\n",
      " Evaluate on validation set...\n"
     ]
    },
    {
     "name": "stderr",
     "output_type": "stream",
     "text": [
      "100%|██████████| 1240/1240 [02:09<00:00,  9.59it/s]\n"
     ]
    },
    {
     "name": "stdout",
     "output_type": "stream",
     "text": [
      "\n",
      " Accuracy: 0.17381508648395538\n",
      "-----------------Epoch = 6-----------------\n"
     ]
    },
    {
     "name": "stderr",
     "output_type": "stream",
     "text": [
      "100%|██████████| 1240/1240 [03:20<00:00,  6.19it/s]\n"
     ]
    },
    {
     "name": "stdout",
     "output_type": "stream",
     "text": [
      "\n",
      " Epoch 6 loss:0.8323678490032591\n",
      "\n",
      " Evaluate on training set...\n"
     ]
    },
    {
     "name": "stderr",
     "output_type": "stream",
     "text": [
      "100%|██████████| 1240/1240 [02:08<00:00,  9.63it/s]\n"
     ]
    },
    {
     "name": "stdout",
     "output_type": "stream",
     "text": [
      "\n",
      " Accuracy: 0.15577378869056702\n",
      "\n",
      " Evaluate on validation set...\n"
     ]
    },
    {
     "name": "stderr",
     "output_type": "stream",
     "text": [
      "100%|██████████| 1240/1240 [02:10<00:00,  9.53it/s]\n"
     ]
    },
    {
     "name": "stdout",
     "output_type": "stream",
     "text": [
      "\n",
      " Accuracy: 0.19236770272254944\n",
      "-----------------Epoch = 7-----------------\n"
     ]
    },
    {
     "name": "stderr",
     "output_type": "stream",
     "text": [
      "100%|██████████| 1240/1240 [03:17<00:00,  6.28it/s]\n"
     ]
    },
    {
     "name": "stdout",
     "output_type": "stream",
     "text": [
      "\n",
      " Epoch 7 loss:0.8289924682488088\n",
      "\n",
      " Evaluate on training set...\n"
     ]
    },
    {
     "name": "stderr",
     "output_type": "stream",
     "text": [
      "100%|██████████| 1240/1240 [02:08<00:00,  9.62it/s]\n"
     ]
    },
    {
     "name": "stdout",
     "output_type": "stream",
     "text": [
      "\n",
      " Accuracy: 0.2008981704711914\n",
      "\n",
      " Evaluate on validation set...\n"
     ]
    },
    {
     "name": "stderr",
     "output_type": "stream",
     "text": [
      "100%|██████████| 1240/1240 [02:09<00:00,  9.57it/s]\n"
     ]
    },
    {
     "name": "stdout",
     "output_type": "stream",
     "text": [
      "\n",
      " Accuracy: 0.18089556694030762\n",
      "-----------------Epoch = 8-----------------\n"
     ]
    },
    {
     "name": "stderr",
     "output_type": "stream",
     "text": [
      "100%|██████████| 1240/1240 [03:22<00:00,  6.13it/s]\n"
     ]
    },
    {
     "name": "stdout",
     "output_type": "stream",
     "text": [
      "\n",
      " Epoch 8 loss:0.8349223829932132\n",
      "\n",
      " Evaluate on training set...\n"
     ]
    },
    {
     "name": "stderr",
     "output_type": "stream",
     "text": [
      "100%|██████████| 1240/1240 [02:08<00:00,  9.62it/s]\n"
     ]
    },
    {
     "name": "stdout",
     "output_type": "stream",
     "text": [
      "\n",
      " Accuracy: 0.11752908676862717\n",
      "\n",
      " Evaluate on validation set...\n"
     ]
    },
    {
     "name": "stderr",
     "output_type": "stream",
     "text": [
      "100%|██████████| 1240/1240 [02:10<00:00,  9.53it/s]\n"
     ]
    },
    {
     "name": "stdout",
     "output_type": "stream",
     "text": [
      "\n",
      " Accuracy: 0.15765953063964844\n",
      "-----------------Epoch = 9-----------------\n"
     ]
    },
    {
     "name": "stderr",
     "output_type": "stream",
     "text": [
      "100%|██████████| 1240/1240 [03:21<00:00,  6.15it/s]\n"
     ]
    },
    {
     "name": "stdout",
     "output_type": "stream",
     "text": [
      "\n",
      " Epoch 9 loss:0.8304056241639914\n",
      "\n",
      " Evaluate on training set...\n"
     ]
    },
    {
     "name": "stderr",
     "output_type": "stream",
     "text": [
      "100%|██████████| 1240/1240 [02:08<00:00,  9.64it/s]\n"
     ]
    },
    {
     "name": "stdout",
     "output_type": "stream",
     "text": [
      "\n",
      " Accuracy: 0.2095993012189865\n",
      "\n",
      " Evaluate on validation set...\n"
     ]
    },
    {
     "name": "stderr",
     "output_type": "stream",
     "text": [
      "100%|██████████| 1240/1240 [02:10<00:00,  9.51it/s]\n"
     ]
    },
    {
     "name": "stdout",
     "output_type": "stream",
     "text": [
      "\n",
      " Accuracy: 0.17517812550067902\n",
      "-----------------Epoch = 10-----------------\n"
     ]
    },
    {
     "name": "stderr",
     "output_type": "stream",
     "text": [
      "100%|██████████| 1240/1240 [03:18<00:00,  6.23it/s]\n"
     ]
    },
    {
     "name": "stdout",
     "output_type": "stream",
     "text": [
      "\n",
      " Epoch 10 loss:0.8256116069351453\n",
      "\n",
      " Evaluate on training set...\n"
     ]
    },
    {
     "name": "stderr",
     "output_type": "stream",
     "text": [
      "100%|██████████| 1240/1240 [02:10<00:00,  9.52it/s]\n"
     ]
    },
    {
     "name": "stdout",
     "output_type": "stream",
     "text": [
      "\n",
      " Accuracy: 0.2087211310863495\n",
      "\n",
      " Evaluate on validation set...\n"
     ]
    },
    {
     "name": "stderr",
     "output_type": "stream",
     "text": [
      "100%|██████████| 1240/1240 [02:11<00:00,  9.46it/s]\n"
     ]
    },
    {
     "name": "stdout",
     "output_type": "stream",
     "text": [
      "\n",
      " Accuracy: 0.16791966557502747\n",
      "-----------------Epoch = 11-----------------\n"
     ]
    },
    {
     "name": "stderr",
     "output_type": "stream",
     "text": [
      "100%|██████████| 1240/1240 [03:20<00:00,  6.19it/s]\n"
     ]
    },
    {
     "name": "stdout",
     "output_type": "stream",
     "text": [
      "\n",
      " Epoch 11 loss:0.8249199841915285\n",
      "\n",
      " Evaluate on training set...\n"
     ]
    },
    {
     "name": "stderr",
     "output_type": "stream",
     "text": [
      "100%|██████████| 1240/1240 [02:08<00:00,  9.61it/s]\n"
     ]
    },
    {
     "name": "stdout",
     "output_type": "stream",
     "text": [
      "\n",
      " Accuracy: 0.16256511211395264\n",
      "\n",
      " Evaluate on validation set...\n"
     ]
    },
    {
     "name": "stderr",
     "output_type": "stream",
     "text": [
      "100%|██████████| 1240/1240 [02:09<00:00,  9.57it/s]\n"
     ]
    },
    {
     "name": "stdout",
     "output_type": "stream",
     "text": [
      "\n",
      " Accuracy: 0.19545841217041016\n",
      "-----------------Epoch = 12-----------------\n"
     ]
    },
    {
     "name": "stderr",
     "output_type": "stream",
     "text": [
      "100%|██████████| 1240/1240 [03:20<00:00,  6.18it/s]\n"
     ]
    },
    {
     "name": "stdout",
     "output_type": "stream",
     "text": [
      "\n",
      " Epoch 12 loss:0.8215751461876399\n",
      "\n",
      " Evaluate on training set...\n"
     ]
    },
    {
     "name": "stderr",
     "output_type": "stream",
     "text": [
      "100%|██████████| 1240/1240 [02:09<00:00,  9.56it/s]\n"
     ]
    },
    {
     "name": "stdout",
     "output_type": "stream",
     "text": [
      "\n",
      " Accuracy: 0.2103426307439804\n",
      "\n",
      " Evaluate on validation set...\n"
     ]
    },
    {
     "name": "stderr",
     "output_type": "stream",
     "text": [
      "100%|██████████| 1240/1240 [02:10<00:00,  9.48it/s]\n"
     ]
    },
    {
     "name": "stdout",
     "output_type": "stream",
     "text": [
      "\n",
      " Accuracy: 0.1712968796491623\n",
      "-----------------Epoch = 13-----------------\n"
     ]
    },
    {
     "name": "stderr",
     "output_type": "stream",
     "text": [
      "100%|██████████| 1240/1240 [03:19<00:00,  6.22it/s]\n"
     ]
    },
    {
     "name": "stdout",
     "output_type": "stream",
     "text": [
      "\n",
      " Epoch 13 loss:0.7876170560961864\n",
      "\n",
      " Evaluate on training set...\n"
     ]
    },
    {
     "name": "stderr",
     "output_type": "stream",
     "text": [
      "100%|██████████| 1240/1240 [02:09<00:00,  9.57it/s]\n"
     ]
    },
    {
     "name": "stdout",
     "output_type": "stream",
     "text": [
      "\n",
      " Accuracy: 0.10132409632205963\n",
      "\n",
      " Evaluate on validation set...\n"
     ]
    },
    {
     "name": "stderr",
     "output_type": "stream",
     "text": [
      "100%|██████████| 1240/1240 [02:10<00:00,  9.52it/s]\n"
     ]
    },
    {
     "name": "stdout",
     "output_type": "stream",
     "text": [
      "\n",
      " Accuracy: 0.11379844695329666\n",
      "-----------------Epoch = 14-----------------\n"
     ]
    },
    {
     "name": "stderr",
     "output_type": "stream",
     "text": [
      "100%|██████████| 1240/1240 [03:19<00:00,  6.21it/s]\n"
     ]
    },
    {
     "name": "stdout",
     "output_type": "stream",
     "text": [
      "\n",
      " Epoch 14 loss:0.7383259583994285\n",
      "\n",
      " Evaluate on training set...\n"
     ]
    },
    {
     "name": "stderr",
     "output_type": "stream",
     "text": [
      "100%|██████████| 1240/1240 [02:09<00:00,  9.55it/s]\n"
     ]
    },
    {
     "name": "stdout",
     "output_type": "stream",
     "text": [
      "\n",
      " Accuracy: 0.09728208929300308\n",
      "\n",
      " Evaluate on validation set...\n"
     ]
    },
    {
     "name": "stderr",
     "output_type": "stream",
     "text": [
      "100%|██████████| 1240/1240 [02:09<00:00,  9.55it/s]\n"
     ]
    },
    {
     "name": "stdout",
     "output_type": "stream",
     "text": [
      "\n",
      " Accuracy: 0.11004623025655746\n",
      "-----------------Epoch = 15-----------------\n"
     ]
    },
    {
     "name": "stderr",
     "output_type": "stream",
     "text": [
      "100%|██████████| 1240/1240 [03:20<00:00,  6.18it/s]\n"
     ]
    },
    {
     "name": "stdout",
     "output_type": "stream",
     "text": [
      "\n",
      " Epoch 15 loss:0.7326617072790097\n",
      "\n",
      " Evaluate on training set...\n"
     ]
    },
    {
     "name": "stderr",
     "output_type": "stream",
     "text": [
      "100%|██████████| 1240/1240 [02:09<00:00,  9.55it/s]\n"
     ]
    },
    {
     "name": "stdout",
     "output_type": "stream",
     "text": [
      "\n",
      " Accuracy: 0.10162965953350067\n",
      "\n",
      " Evaluate on validation set...\n"
     ]
    },
    {
     "name": "stderr",
     "output_type": "stream",
     "text": [
      "100%|██████████| 1240/1240 [02:10<00:00,  9.53it/s]\n"
     ]
    },
    {
     "name": "stdout",
     "output_type": "stream",
     "text": [
      "\n",
      " Accuracy: 0.107688769698143\n",
      "-----------------Epoch = 16-----------------\n"
     ]
    },
    {
     "name": "stderr",
     "output_type": "stream",
     "text": [
      "100%|██████████| 1240/1240 [03:19<00:00,  6.23it/s]\n"
     ]
    },
    {
     "name": "stdout",
     "output_type": "stream",
     "text": [
      "\n",
      " Epoch 16 loss:0.7182896186136005\n",
      "\n",
      " Evaluate on training set...\n"
     ]
    },
    {
     "name": "stderr",
     "output_type": "stream",
     "text": [
      "100%|██████████| 1240/1240 [02:09<00:00,  9.58it/s]\n"
     ]
    },
    {
     "name": "stdout",
     "output_type": "stream",
     "text": [
      "\n",
      " Accuracy: 0.0980582907795906\n",
      "\n",
      " Evaluate on validation set...\n"
     ]
    },
    {
     "name": "stderr",
     "output_type": "stream",
     "text": [
      "100%|██████████| 1240/1240 [02:10<00:00,  9.47it/s]\n"
     ]
    },
    {
     "name": "stdout",
     "output_type": "stream",
     "text": [
      "\n",
      " Accuracy: 0.08234521001577377\n",
      "-----------------Epoch = 17-----------------\n"
     ]
    },
    {
     "name": "stderr",
     "output_type": "stream",
     "text": [
      "100%|██████████| 1240/1240 [03:19<00:00,  6.23it/s]\n"
     ]
    },
    {
     "name": "stdout",
     "output_type": "stream",
     "text": [
      "\n",
      " Epoch 17 loss:0.7049361210071504\n",
      "\n",
      " Evaluate on training set...\n"
     ]
    },
    {
     "name": "stderr",
     "output_type": "stream",
     "text": [
      "100%|██████████| 1240/1240 [02:08<00:00,  9.62it/s]\n"
     ]
    },
    {
     "name": "stdout",
     "output_type": "stream",
     "text": [
      "\n",
      " Accuracy: 0.09356551617383957\n",
      "\n",
      " Evaluate on validation set...\n"
     ]
    },
    {
     "name": "stderr",
     "output_type": "stream",
     "text": [
      "100%|██████████| 1240/1240 [02:09<00:00,  9.59it/s]\n"
     ]
    },
    {
     "name": "stdout",
     "output_type": "stream",
     "text": [
      "\n",
      " Accuracy: 0.07607836276292801\n",
      "-----------------Epoch = 18-----------------\n"
     ]
    },
    {
     "name": "stderr",
     "output_type": "stream",
     "text": [
      "100%|██████████| 1240/1240 [03:20<00:00,  6.18it/s]\n"
     ]
    },
    {
     "name": "stdout",
     "output_type": "stream",
     "text": [
      "\n",
      " Epoch 18 loss:0.7101751216965863\n",
      "\n",
      " Evaluate on training set...\n"
     ]
    },
    {
     "name": "stderr",
     "output_type": "stream",
     "text": [
      "100%|██████████| 1240/1240 [02:08<00:00,  9.67it/s]\n"
     ]
    },
    {
     "name": "stdout",
     "output_type": "stream",
     "text": [
      "\n",
      " Accuracy: 0.09743724763393402\n",
      "\n",
      " Evaluate on validation set...\n"
     ]
    },
    {
     "name": "stderr",
     "output_type": "stream",
     "text": [
      "100%|██████████| 1240/1240 [02:10<00:00,  9.49it/s]\n"
     ]
    },
    {
     "name": "stdout",
     "output_type": "stream",
     "text": [
      "\n",
      " Accuracy: 0.0784291997551918\n",
      "-----------------Epoch = 19-----------------\n"
     ]
    },
    {
     "name": "stderr",
     "output_type": "stream",
     "text": [
      "100%|██████████| 1240/1240 [03:20<00:00,  6.17it/s]\n"
     ]
    },
    {
     "name": "stdout",
     "output_type": "stream",
     "text": [
      "\n",
      " Epoch 19 loss:0.6920110495322394\n",
      "\n",
      " Evaluate on training set...\n"
     ]
    },
    {
     "name": "stderr",
     "output_type": "stream",
     "text": [
      "100%|██████████| 1240/1240 [02:09<00:00,  9.58it/s]\n"
     ]
    },
    {
     "name": "stdout",
     "output_type": "stream",
     "text": [
      "\n",
      " Accuracy: 0.0870913565158844\n",
      "\n",
      " Evaluate on validation set...\n"
     ]
    },
    {
     "name": "stderr",
     "output_type": "stream",
     "text": [
      "100%|██████████| 1240/1240 [02:10<00:00,  9.52it/s]\n"
     ]
    },
    {
     "name": "stdout",
     "output_type": "stream",
     "text": [
      "\n",
      " Accuracy: 0.06022966653108597\n",
      "-----------------Epoch = 20-----------------\n"
     ]
    },
    {
     "name": "stderr",
     "output_type": "stream",
     "text": [
      "100%|██████████| 1240/1240 [03:20<00:00,  6.18it/s]\n"
     ]
    },
    {
     "name": "stdout",
     "output_type": "stream",
     "text": [
      "\n",
      " Epoch 20 loss:0.6723086671674088\n",
      "\n",
      " Evaluate on training set...\n"
     ]
    },
    {
     "name": "stderr",
     "output_type": "stream",
     "text": [
      "100%|██████████| 1240/1240 [02:10<00:00,  9.52it/s]\n"
     ]
    },
    {
     "name": "stdout",
     "output_type": "stream",
     "text": [
      "\n",
      " Accuracy: 0.1359102874994278\n",
      "\n",
      " Evaluate on validation set...\n"
     ]
    },
    {
     "name": "stderr",
     "output_type": "stream",
     "text": [
      "100%|██████████| 1240/1240 [02:10<00:00,  9.50it/s]\n"
     ]
    },
    {
     "name": "stdout",
     "output_type": "stream",
     "text": [
      "\n",
      " Accuracy: 0.13621486723423004\n",
      "-----------------Epoch = 21-----------------\n"
     ]
    },
    {
     "name": "stderr",
     "output_type": "stream",
     "text": [
      "100%|██████████| 1240/1240 [03:19<00:00,  6.20it/s]\n"
     ]
    },
    {
     "name": "stdout",
     "output_type": "stream",
     "text": [
      "\n",
      " Epoch 21 loss:0.6361998013160771\n",
      "\n",
      " Evaluate on training set...\n"
     ]
    },
    {
     "name": "stderr",
     "output_type": "stream",
     "text": [
      "100%|██████████| 1240/1240 [02:09<00:00,  9.54it/s]\n"
     ]
    },
    {
     "name": "stdout",
     "output_type": "stream",
     "text": [
      "\n",
      " Accuracy: 0.10957171767950058\n",
      "\n",
      " Evaluate on validation set...\n"
     ]
    },
    {
     "name": "stderr",
     "output_type": "stream",
     "text": [
      "100%|██████████| 1240/1240 [02:09<00:00,  9.56it/s]\n"
     ]
    },
    {
     "name": "stdout",
     "output_type": "stream",
     "text": [
      "\n",
      " Accuracy: 0.11344700306653976\n",
      "-----------------Epoch = 22-----------------\n"
     ]
    },
    {
     "name": "stderr",
     "output_type": "stream",
     "text": [
      "100%|██████████| 1240/1240 [03:20<00:00,  6.20it/s]\n"
     ]
    },
    {
     "name": "stdout",
     "output_type": "stream",
     "text": [
      "\n",
      " Epoch 22 loss:0.6159764916623292\n",
      "\n",
      " Evaluate on training set...\n"
     ]
    },
    {
     "name": "stderr",
     "output_type": "stream",
     "text": [
      "100%|██████████| 1240/1240 [02:08<00:00,  9.63it/s]\n"
     ]
    },
    {
     "name": "stdout",
     "output_type": "stream",
     "text": [
      "\n",
      " Accuracy: 0.160146102309227\n",
      "\n",
      " Evaluate on validation set...\n"
     ]
    },
    {
     "name": "stderr",
     "output_type": "stream",
     "text": [
      "100%|██████████| 1240/1240 [02:10<00:00,  9.53it/s]\n"
     ]
    },
    {
     "name": "stdout",
     "output_type": "stream",
     "text": [
      "\n",
      " Accuracy: 0.14181508123874664\n",
      "-----------------Epoch = 23-----------------\n"
     ]
    },
    {
     "name": "stderr",
     "output_type": "stream",
     "text": [
      "100%|██████████| 1240/1240 [03:21<00:00,  6.16it/s]\n"
     ]
    },
    {
     "name": "stdout",
     "output_type": "stream",
     "text": [
      "\n",
      " Epoch 23 loss:0.5881626001803948\n",
      "\n",
      " Evaluate on training set...\n"
     ]
    },
    {
     "name": "stderr",
     "output_type": "stream",
     "text": [
      "100%|██████████| 1240/1240 [02:10<00:00,  9.51it/s]\n"
     ]
    },
    {
     "name": "stdout",
     "output_type": "stream",
     "text": [
      "\n",
      " Accuracy: 0.21365471184253693\n",
      "\n",
      " Evaluate on validation set...\n"
     ]
    },
    {
     "name": "stderr",
     "output_type": "stream",
     "text": [
      "100%|██████████| 1240/1240 [02:11<00:00,  9.45it/s]\n"
     ]
    },
    {
     "name": "stdout",
     "output_type": "stream",
     "text": [
      "\n",
      " Accuracy: 0.18955907225608826\n",
      "-----------------Epoch = 24-----------------\n"
     ]
    },
    {
     "name": "stderr",
     "output_type": "stream",
     "text": [
      "100%|██████████| 1240/1240 [03:20<00:00,  6.20it/s]\n"
     ]
    },
    {
     "name": "stdout",
     "output_type": "stream",
     "text": [
      "\n",
      " Epoch 24 loss:0.5450855167686377\n",
      "\n",
      " Evaluate on training set...\n"
     ]
    },
    {
     "name": "stderr",
     "output_type": "stream",
     "text": [
      "100%|██████████| 1240/1240 [02:09<00:00,  9.57it/s]\n"
     ]
    },
    {
     "name": "stdout",
     "output_type": "stream",
     "text": [
      "\n",
      " Accuracy: 0.2716820240020752\n",
      "\n",
      " Evaluate on validation set...\n"
     ]
    },
    {
     "name": "stderr",
     "output_type": "stream",
     "text": [
      "100%|██████████| 1240/1240 [02:10<00:00,  9.50it/s]\n"
     ]
    },
    {
     "name": "stdout",
     "output_type": "stream",
     "text": [
      "\n",
      " Accuracy: 0.23391015827655792\n",
      "-----------------Epoch = 25-----------------\n"
     ]
    },
    {
     "name": "stderr",
     "output_type": "stream",
     "text": [
      "100%|██████████| 1240/1240 [03:20<00:00,  6.19it/s]\n"
     ]
    },
    {
     "name": "stdout",
     "output_type": "stream",
     "text": [
      "\n",
      " Epoch 25 loss:0.5402838184102757\n",
      "\n",
      " Evaluate on training set...\n"
     ]
    },
    {
     "name": "stderr",
     "output_type": "stream",
     "text": [
      "100%|██████████| 1240/1240 [02:10<00:00,  9.51it/s]\n"
     ]
    },
    {
     "name": "stdout",
     "output_type": "stream",
     "text": [
      "\n",
      " Accuracy: 0.3005680441856384\n",
      "\n",
      " Evaluate on validation set...\n"
     ]
    },
    {
     "name": "stderr",
     "output_type": "stream",
     "text": [
      "100%|██████████| 1240/1240 [02:12<00:00,  9.38it/s]\n"
     ]
    },
    {
     "name": "stdout",
     "output_type": "stream",
     "text": [
      "\n",
      " Accuracy: 0.3225981593132019\n",
      "-----------------Epoch = 26-----------------\n"
     ]
    },
    {
     "name": "stderr",
     "output_type": "stream",
     "text": [
      "100%|██████████| 1240/1240 [03:20<00:00,  6.20it/s]\n"
     ]
    },
    {
     "name": "stdout",
     "output_type": "stream",
     "text": [
      "\n",
      " Epoch 26 loss:0.5299464431499556\n",
      "\n",
      " Evaluate on training set...\n"
     ]
    },
    {
     "name": "stderr",
     "output_type": "stream",
     "text": [
      "100%|██████████| 1240/1240 [02:09<00:00,  9.58it/s]\n"
     ]
    },
    {
     "name": "stdout",
     "output_type": "stream",
     "text": [
      "\n",
      " Accuracy: 0.3134661912918091\n",
      "\n",
      " Evaluate on validation set...\n"
     ]
    },
    {
     "name": "stderr",
     "output_type": "stream",
     "text": [
      "100%|██████████| 1240/1240 [02:09<00:00,  9.58it/s]\n"
     ]
    },
    {
     "name": "stdout",
     "output_type": "stream",
     "text": [
      "\n",
      " Accuracy: 0.3042282164096832\n",
      "-----------------Epoch = 27-----------------\n"
     ]
    },
    {
     "name": "stderr",
     "output_type": "stream",
     "text": [
      "100%|██████████| 1240/1240 [03:19<00:00,  6.22it/s]\n"
     ]
    },
    {
     "name": "stdout",
     "output_type": "stream",
     "text": [
      "\n",
      " Epoch 27 loss:0.5150530189404533\n",
      "\n",
      " Evaluate on training set...\n"
     ]
    },
    {
     "name": "stderr",
     "output_type": "stream",
     "text": [
      "100%|██████████| 1240/1240 [02:09<00:00,  9.56it/s]\n"
     ]
    },
    {
     "name": "stdout",
     "output_type": "stream",
     "text": [
      "\n",
      " Accuracy: 0.3277257978916168\n",
      "\n",
      " Evaluate on validation set...\n"
     ]
    },
    {
     "name": "stderr",
     "output_type": "stream",
     "text": [
      "100%|██████████| 1240/1240 [02:10<00:00,  9.51it/s]\n"
     ]
    },
    {
     "name": "stdout",
     "output_type": "stream",
     "text": [
      "\n",
      " Accuracy: 0.31702566146850586\n",
      "-----------------Epoch = 28-----------------\n"
     ]
    },
    {
     "name": "stderr",
     "output_type": "stream",
     "text": [
      "100%|██████████| 1240/1240 [03:21<00:00,  6.16it/s]\n"
     ]
    },
    {
     "name": "stdout",
     "output_type": "stream",
     "text": [
      "\n",
      " Epoch 28 loss:0.5342520170775401\n",
      "\n",
      " Evaluate on training set...\n"
     ]
    },
    {
     "name": "stderr",
     "output_type": "stream",
     "text": [
      "100%|██████████| 1240/1240 [02:10<00:00,  9.53it/s]\n"
     ]
    },
    {
     "name": "stdout",
     "output_type": "stream",
     "text": [
      "\n",
      " Accuracy: 0.32543453574180603\n",
      "\n",
      " Evaluate on validation set...\n"
     ]
    },
    {
     "name": "stderr",
     "output_type": "stream",
     "text": [
      "100%|██████████| 1240/1240 [02:10<00:00,  9.52it/s]\n"
     ]
    },
    {
     "name": "stdout",
     "output_type": "stream",
     "text": [
      "\n",
      " Accuracy: 0.3197731673717499\n",
      "-----------------Epoch = 29-----------------\n"
     ]
    },
    {
     "name": "stderr",
     "output_type": "stream",
     "text": [
      "100%|██████████| 1240/1240 [03:22<00:00,  6.13it/s]\n"
     ]
    },
    {
     "name": "stdout",
     "output_type": "stream",
     "text": [
      "\n",
      " Epoch 29 loss:0.5337296510613765\n",
      "\n",
      " Evaluate on training set...\n"
     ]
    },
    {
     "name": "stderr",
     "output_type": "stream",
     "text": [
      "100%|██████████| 1240/1240 [02:09<00:00,  9.57it/s]\n"
     ]
    },
    {
     "name": "stdout",
     "output_type": "stream",
     "text": [
      "\n",
      " Accuracy: 0.312025249004364\n",
      "\n",
      " Evaluate on validation set...\n"
     ]
    },
    {
     "name": "stderr",
     "output_type": "stream",
     "text": [
      "100%|██████████| 1240/1240 [02:10<00:00,  9.51it/s]\n"
     ]
    },
    {
     "name": "stdout",
     "output_type": "stream",
     "text": [
      "\n",
      " Accuracy: 0.29350051283836365\n",
      "-----------------Epoch = 30-----------------\n"
     ]
    },
    {
     "name": "stderr",
     "output_type": "stream",
     "text": [
      "100%|██████████| 1240/1240 [03:19<00:00,  6.20it/s]\n"
     ]
    },
    {
     "name": "stdout",
     "output_type": "stream",
     "text": [
      "\n",
      " Epoch 30 loss:0.5423824855479701\n",
      "\n",
      " Evaluate on training set...\n"
     ]
    },
    {
     "name": "stderr",
     "output_type": "stream",
     "text": [
      "100%|██████████| 1240/1240 [02:10<00:00,  9.51it/s]\n"
     ]
    },
    {
     "name": "stdout",
     "output_type": "stream",
     "text": [
      "\n",
      " Accuracy: 0.33237984776496887\n",
      "\n",
      " Evaluate on validation set...\n"
     ]
    },
    {
     "name": "stderr",
     "output_type": "stream",
     "text": [
      "100%|██████████| 1240/1240 [02:10<00:00,  9.49it/s]"
     ]
    },
    {
     "name": "stdout",
     "output_type": "stream",
     "text": [
      "\n",
      " Accuracy: 0.3452182412147522\n",
      "Done!\n"
     ]
    },
    {
     "name": "stderr",
     "output_type": "stream",
     "text": [
      "\n"
     ]
    }
   ],
   "execution_count": 468
  },
  {
   "metadata": {},
   "cell_type": "markdown",
   "source": "## Visualize Results",
   "id": "88b19164d3e59904"
  },
  {
   "metadata": {
    "ExecuteTime": {
     "end_time": "2024-04-14T20:06:15.852365Z",
     "start_time": "2024-04-14T20:06:15.557582Z"
    }
   },
   "cell_type": "code",
   "source": [
    "model = UNet(n_channels=4, n_classes=1).to(device)\n",
    "model.load_state_dict(torch.load('model_32dice_30.pth'))"
   ],
   "id": "92bee5286eb050c",
   "outputs": [
    {
     "data": {
      "text/plain": [
       "<All keys matched successfully>"
      ]
     },
     "execution_count": 469,
     "metadata": {},
     "output_type": "execute_result"
    }
   ],
   "execution_count": 469
  },
  {
   "metadata": {
    "ExecuteTime": {
     "end_time": "2024-04-14T20:09:28.531759Z",
     "start_time": "2024-04-14T20:09:28.372100Z"
    }
   },
   "cell_type": "code",
   "source": [
    "# evaluate(model, train_loader, criterion)\n",
    "for i in range(1):\n",
    "  example = val_loader.__iter__().__next__()\n",
    "  image = example[0]\n",
    "  image = image.to(device=device, dtype=torch.float)\n",
    "  pred = model(image)\n",
    "  pred = nn.Sigmoid()(pred)\n",
    "  pred = pred.detach().cpu().numpy()\n",
    "  label = example[1].to(device=device, dtype=torch.bool)\n",
    "  label  = label.cpu().numpy()\n",
    "  fig, axes = plt.subplots(1, 2)\n",
    "  axes = np.reshape(axes, (2, ))\n",
    "  axes[0].imshow(pred[0, 0, :, :])\n",
    "  axes[0].axis('off')\n",
    "  axes[1].imshow(label[0, 0, :, :])\n",
    "  axes[1].axis('off')\n",
    "  plt.show()"
   ],
   "id": "134e29e74ca84de9",
   "outputs": [
    {
     "data": {
      "text/plain": [
       "<Figure size 640x480 with 2 Axes>"
      ],
      "image/png": "[encoded data removed]"
     },
     "metadata": {},
     "output_type": "display_data"
    }
   ],
   "execution_count": 558
  },
  {
   "metadata": {},
   "cell_type": "markdown",
   "source": "## Store result",
   "id": "ca9d032184fb77d9"
  },
  {
   "metadata": {
    "ExecuteTime": {
     "end_time": "2024-04-15T00:30:35.355744Z",
     "start_time": "2024-04-15T00:30:35.190084Z"
    }
   },
   "cell_type": "code",
   "source": [
    "print(trn_loss_hist, trn_acc_hist, val_acc_hist)\n",
    "with open ('model_32dice_30.pkl', 'wb') as f:\n",
    "    np.savez(f, trn_loss_hist=trn_loss_hist, trn_acc_hist=[a.cpu()  for a in trn_acc_hist], val_acc_hist=[a.cpu()  for a in val_acc_hist])"
   ],
   "id": "b67a978352bd6d34",
   "outputs": [
    {
     "name": "stdout",
     "output_type": "stream",
     "text": [
      "[0.9253725555083571, 0.8584323256312522, 0.8394204331689501, 0.8416194367530809, 0.8379888410645738, 0.8323678490032591, 0.8289924682488088, 0.8349223829932132, 0.8304056241639914, 0.8256116069351453, 0.8249199841915285, 0.8215751461876399, 0.7876170560961864, 0.7383259583994285, 0.7326617072790097, 0.7182896186136005, 0.7049361210071504, 0.7101751216965863, 0.6920110495322394, 0.6723086671674088, 0.6361998013160771, 0.6159764916623292, 0.5881626001803948, 0.5450855167686377, 0.5402838184102757, 0.5299464431499556, 0.5150530189404533, 0.5342520170775401, 0.5337296510613765, 0.5423824855479701] [tensor(0.1412, device='mps:0'), tensor(0.1408, device='mps:0'), tensor(0.1959, device='mps:0'), tensor(0.1875, device='mps:0'), tensor(0.1857, device='mps:0'), tensor(0.1558, device='mps:0'), tensor(0.2009, device='mps:0'), tensor(0.1175, device='mps:0'), tensor(0.2096, device='mps:0'), tensor(0.2087, device='mps:0'), tensor(0.1626, device='mps:0'), tensor(0.2103, device='mps:0'), tensor(0.1013, device='mps:0'), tensor(0.0973, device='mps:0'), tensor(0.1016, device='mps:0'), tensor(0.0981, device='mps:0'), tensor(0.0936, device='mps:0'), tensor(0.0974, device='mps:0'), tensor(0.0871, device='mps:0'), tensor(0.1359, device='mps:0'), tensor(0.1096, device='mps:0'), tensor(0.1601, device='mps:0'), tensor(0.2137, device='mps:0'), tensor(0.2717, device='mps:0'), tensor(0.3006, device='mps:0'), tensor(0.3135, device='mps:0'), tensor(0.3277, device='mps:0'), tensor(0.3254, device='mps:0'), tensor(0.3120, device='mps:0'), tensor(0.3324, device='mps:0')] [tensor(0.1246, device='mps:0'), tensor(0.1695, device='mps:0'), tensor(0.1694, device='mps:0'), tensor(0.1775, device='mps:0'), tensor(0.1738, device='mps:0'), tensor(0.1924, device='mps:0'), tensor(0.1809, device='mps:0'), tensor(0.1577, device='mps:0'), tensor(0.1752, device='mps:0'), tensor(0.1679, device='mps:0'), tensor(0.1955, device='mps:0'), tensor(0.1713, device='mps:0'), tensor(0.1138, device='mps:0'), tensor(0.1100, device='mps:0'), tensor(0.1077, device='mps:0'), tensor(0.0823, device='mps:0'), tensor(0.0761, device='mps:0'), tensor(0.0784, device='mps:0'), tensor(0.0602, device='mps:0'), tensor(0.1362, device='mps:0'), tensor(0.1134, device='mps:0'), tensor(0.1418, device='mps:0'), tensor(0.1896, device='mps:0'), tensor(0.2339, device='mps:0'), tensor(0.3226, device='mps:0'), tensor(0.3042, device='mps:0'), tensor(0.3170, device='mps:0'), tensor(0.3198, device='mps:0'), tensor(0.2935, device='mps:0'), tensor(0.3452, device='mps:0')]\n"
     ]
    }
   ],
   "execution_count": 565
  }
 ],
 "metadata": {
  "kernelspec": {
   "display_name": "Python 3",
   "language": "python",
   "name": "python3"
  },
  "language_info": {
   "codemirror_mode": {
    "name": "ipython",
    "version": 2
   },
   "file_extension": ".py",
   "mimetype": "text/x-python",
   "name": "python",
   "nbconvert_exporter": "python",
   "pygments_lexer": "ipython2",
   "version": "2.7.6"
  }
 },
 "nbformat": 4,
 "nbformat_minor": 5
}
